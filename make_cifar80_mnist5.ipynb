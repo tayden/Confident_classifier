{
 "cells": [
  {
   "cell_type": "markdown",
   "metadata": {},
   "source": [
    "# Make CIFAR80 dataset"
   ]
  },
  {
   "cell_type": "code",
   "execution_count": 1,
   "metadata": {},
   "outputs": [],
   "source": [
    "from src import data_loader\n",
    "from PIL import Image\n",
    "from matplotlib import pyplot as plt\n",
    "import numpy as np\n",
    "import pathlib\n",
    "\n",
    "def display_sample(sample):\n",
    "    img = sample.numpy() * 255\n",
    "    img = np.moveaxis(img, 0, 2).astype(np.uint8)\n",
    "    plt.imshow(Image.fromarray(img))\n",
    "    plt.show()\n",
    "    \n",
    "def to_image(sample):\n",
    "    img = sample.numpy() * 255\n",
    "    img = np.moveaxis(img, 0, 2).astype(np.uint8)\n",
    "    return Image.fromarray(img)"
   ]
  },
  {
   "cell_type": "code",
   "execution_count": 2,
   "metadata": {},
   "outputs": [
    {
     "name": "stdout",
     "output_type": "stream",
     "text": [
      "Building CIFAR-100 data loader with 1 workers\n",
      "Downloading https://www.cs.toronto.edu/~kriz/cifar-100-python.tar.gz to /media/tadenoud/DATADisk/datasets/cifar100/cifar100-data/cifar-100-python.tar.gz\n",
      "Files already downloaded and verified\n"
     ]
    }
   ],
   "source": [
    "train_loader, test_loader = data_loader.getTargetDataSet('cifar100', 128, 32, '/media/tadenoud/DATADisk/datasets/cifar100')\n",
    "\n",
    "train_classes = list(range(80))\n",
    "cifar80_dir = '/media/tadenoud/DATADisk/datasets/cifar80'\n",
    "cifar20_dir = '/media/tadenoud/DATADisk/datasets/cifar20'\n",
    "\n",
    "i = 0\n",
    "for x_batch, y_batch in train_loader:\n",
    "    for x, y in zip(x_batch, y_batch):\n",
    "        if y in train_classes:\n",
    "            path = '%s/train/%d' % (cifar80_dir, y)\n",
    "        else:\n",
    "            path = '%s/train/%d' % (cifar20_dir, y)\n",
    "        \n",
    "        pathlib.Path(path).mkdir(parents=True, exist_ok=True)\n",
    "        to_image(x).save(\"%s/%d.png\" % (path, i))\n",
    "        i += 1"
   ]
  },
  {
   "cell_type": "markdown",
   "metadata": {},
   "source": [
    "# Make MNIST5 dataset"
   ]
  },
  {
   "cell_type": "code",
   "execution_count": 3,
   "metadata": {},
   "outputs": [
    {
     "name": "stdout",
     "output_type": "stream",
     "text": [
      "Building MNIST data loader with 1 workers\n",
      "Downloading http://yann.lecun.com/exdb/mnist/train-images-idx3-ubyte.gz\n",
      "Downloading http://yann.lecun.com/exdb/mnist/train-labels-idx1-ubyte.gz\n",
      "Downloading http://yann.lecun.com/exdb/mnist/t10k-images-idx3-ubyte.gz\n",
      "Downloading http://yann.lecun.com/exdb/mnist/t10k-labels-idx1-ubyte.gz\n",
      "Processing...\n",
      "Done!\n"
     ]
    }
   ],
   "source": [
    "train_loader, test_loader = data_loader.getTargetDataSet('mnist', 128, 28, '/media/tadenoud/DATADisk/datasets/mnist')\n",
    "\n",
    "train_classes = list(range(5))\n",
    "mnist0_4_dir = '/media/tadenoud/DATADisk/datasets/mnist0_4'\n",
    "mnist5_9_dir = '/media/tadenoud/DATADisk/datasets/mnist5_9'\n",
    "\n",
    "i = 0\n",
    "for x_batch, y_batch in train_loader:\n",
    "    for x, y in zip(x_batch, y_batch):\n",
    "        if y in train_classes:\n",
    "            path = '%s/train/%d' % (mnist0_4_dir, y)\n",
    "        else:\n",
    "            path = '%s/train/%d' % (mnist5_9_dir, y)\n",
    "        \n",
    "        pathlib.Path(path).mkdir(parents=True, exist_ok=True)\n",
    "        to_image(x).save(\"%s/%d.png\" % (path, i))\n",
    "        i += 1"
   ]
  },
  {
   "cell_type": "code",
   "execution_count": null,
   "metadata": {},
   "outputs": [],
   "source": []
  }
 ],
 "metadata": {
  "kernelspec": {
   "display_name": "Python 3",
   "language": "python",
   "name": "python3"
  },
  "language_info": {
   "codemirror_mode": {
    "name": "ipython",
    "version": 3
   },
   "file_extension": ".py",
   "mimetype": "text/x-python",
   "name": "python",
   "nbconvert_exporter": "python",
   "pygments_lexer": "ipython3",
   "version": "3.5.2"
  }
 },
 "nbformat": 4,
 "nbformat_minor": 2
}
