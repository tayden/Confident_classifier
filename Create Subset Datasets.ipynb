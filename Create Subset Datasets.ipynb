{
 "cells": [
  {
   "cell_type": "markdown",
   "metadata": {},
   "source": [
    "# Make CIFAR80 dataset"
   ]
  },
  {
   "cell_type": "code",
   "execution_count": 9,
   "metadata": {},
   "outputs": [
    {
     "name": "stdout",
     "output_type": "stream",
     "text": [
      "Building CIFAR-100 data loader with 1 workers\n",
      "Files already downloaded and verified\n",
      "Files already downloaded and verified\n"
     ]
    }
   ],
   "source": [
    "from src import data_loader\n",
    "\n",
    "train_loader, test_loader = data_loader.getTargetDataSet('cifar100', 128, 32, '/tmp/public_dataset/pytorch')"
   ]
  },
  {
   "cell_type": "code",
   "execution_count": 10,
   "metadata": {},
   "outputs": [],
   "source": [
    "from PIL import Image\n",
    "from matplotlib import pyplot as plt\n",
    "import numpy as np\n",
    "\n",
    "def display_sample(sample):\n",
    "    img = sample.numpy() * 255\n",
    "    img = np.moveaxis(img, 0, 2).astype(np.uint8)\n",
    "    plt.imshow(Image.fromarray(img))\n",
    "    plt.show()\n",
    "    \n",
    "def to_image(sample):\n",
    "    img = sample.numpy() * 255\n",
    "    img = np.moveaxis(img, 0, 2).astype(np.uint8)\n",
    "    return Image.fromarray(img)"
   ]
  },
  {
   "cell_type": "code",
   "execution_count": null,
   "metadata": {},
   "outputs": [],
   "source": [
    "import pathlib\n",
    "\n",
    "\n",
    "train_classes = list(range(80))\n",
    "root_dir = '/media/tadenoud/DATADisk/datasets/cifar80'\n",
    "\n",
    "i = 0\n",
    "for x_batch, y_batch in train_loader:\n",
    "    for x, y in zip(x_batch, y_batch):\n",
    "        if y in train_classes:\n",
    "            path = '%s/train/%d' % (root_dir, y)\n",
    "        else:\n",
    "            path = '%s/test/%d' % (root_dir, y)\n",
    "        \n",
    "        pathlib.Path(path).mkdir(parents=True, exist_ok=True)\n",
    "        to_image(x).save(\"%s/%d.png\" % (path, i))\n",
    "        i += 1"
   ]
  },
  {
   "cell_type": "markdown",
   "metadata": {},
   "source": [
    "# Make MNIST5 dataset"
   ]
  },
  {
   "cell_type": "code",
   "execution_count": null,
   "metadata": {},
   "outputs": [],
   "source": [
    "from src import data_loader\n",
    "\n",
    "train_loader, test_loader = data_loader.getTargetDataSet('mnist', 128, 28, '/tmp/public_dataset/pytorch')"
   ]
  },
  {
   "cell_type": "code",
   "execution_count": null,
   "metadata": {},
   "outputs": [],
   "source": [
    "from PIL import Image\n",
    "from matplotlib import pyplot as plt\n",
    "import numpy as np\n",
    "\n",
    "def display_sample(sample):\n",
    "    img = sample.numpy() * 255\n",
    "    img = np.moveaxis(img, 0, 2).astype(np.uint8)\n",
    "    plt.imshow(Image.fromarray(img))\n",
    "    plt.show()\n",
    "    \n",
    "def to_image(sample):\n",
    "    img = sample.numpy() * 255\n",
    "    img = np.moveaxis(img, 0, 2).astype(np.uint8)\n",
    "    return Image.fromarray(img)"
   ]
  },
  {
   "cell_type": "code",
   "execution_count": null,
   "metadata": {},
   "outputs": [],
   "source": [
    "import pathlib\n",
    "\n",
    "\n",
    "train_classes = list(range(5))\n",
    "root_dir = '/media/tadenoud/DATADisk/datasets/mnist5'\n",
    "\n",
    "i = 0\n",
    "for x_batch, y_batch in train_loader:\n",
    "    for x, y in zip(x_batch, y_batch):\n",
    "        if y in train_classes:\n",
    "            path = '%s/train/%d' % (root_dir, y)\n",
    "        else:\n",
    "            path = '%s/test/%d' % (root_dir, y)\n",
    "        \n",
    "        pathlib.Path(path).mkdir(parents=True, exist_ok=True)\n",
    "        to_image(x).save(\"%s/%d.png\" % (path, i))\n",
    "        i += 1"
   ]
  },
  {
   "cell_type": "code",
   "execution_count": null,
   "metadata": {},
   "outputs": [],
   "source": []
  }
 ],
 "metadata": {
  "kernelspec": {
   "display_name": "Python 3",
   "language": "python",
   "name": "python3"
  },
  "language_info": {
   "codemirror_mode": {
    "name": "ipython",
    "version": 3
   },
   "file_extension": ".py",
   "mimetype": "text/x-python",
   "name": "python",
   "nbconvert_exporter": "python",
   "pygments_lexer": "ipython3",
   "version": "3.5.2"
  }
 },
 "nbformat": 4,
 "nbformat_minor": 2
}
